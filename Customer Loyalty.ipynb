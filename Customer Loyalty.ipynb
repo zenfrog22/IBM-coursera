{
    "cells": [
        {
            "cell_type": "markdown",
            "metadata": {},
            "source": "# Customer Loyalty Analysis\nI really don't know what I'm doing yet, so this is just following the IBM course directions (with some extra help).\n\nNOT READY FOR SHARING: Check code for sensitive credentials.\n\n[Help from IBM Watson](https://www.ibm.com/docs/en/cloud-paks/cp-data/4.7.x?topic=scripts-loading-accessing-data-in-notebook)"
        },
        {
            "cell_type": "code",
            "execution_count": 1,
            "metadata": {},
            "outputs": [
                {
                    "data": {
                        "text/html": "<div>\n<style scoped>\n    .dataframe tbody tr th:only-of-type {\n        vertical-align: middle;\n    }\n\n    .dataframe tbody tr th {\n        vertical-align: top;\n    }\n\n    .dataframe thead th {\n        text-align: right;\n    }\n</style>\n<table border=\"1\" class=\"dataframe\">\n  <thead>\n    <tr style=\"text-align: right;\">\n      <th></th>\n      <th>CUST_ID</th>\n      <th>CUSTNAME</th>\n      <th>CITY</th>\n      <th>STATE</th>\n      <th>COUNTRY_CODE</th>\n      <th>POSTAL_CODE</th>\n      <th>EMAIL_ADDRESS</th>\n      <th>PHONE_NUMBER</th>\n      <th>YTD_SALES</th>\n      <th>SALESREP_ID</th>\n      <th>NATIONALITY</th>\n      <th>NATIONAL_ID</th>\n      <th>CREDITCARD_NUMBER</th>\n      <th>CREDITCARD_TYPE</th>\n      <th>CREDITCARD_EXP</th>\n      <th>CREDITCARD_CVV</th>\n    </tr>\n  </thead>\n  <tbody>\n    <tr>\n      <th>0</th>\n      <td>10001</td>\n      <td>Michael Golden</td>\n      <td>Abbadia Alpina</td>\n      <td>TO</td>\n      <td>IT</td>\n      <td>10060</td>\n      <td>Michael.E.golden@spambob.com</td>\n      <td>724-454-8453</td>\n      <td>90.3</td>\n      <td>SE133</td>\n      <td>IT</td>\n      <td>152-374-114</td>\n      <td>5668369040063070</td>\n      <td>American Express</td>\n      <td>10-24</td>\n      <td>4950</td>\n    </tr>\n    <tr>\n      <th>1</th>\n      <td>10002</td>\n      <td>Renee Mullins</td>\n      <td>Columbus</td>\n      <td>OH</td>\n      <td>US</td>\n      <td>45101</td>\n      <td>Rene.K.mullins@dodgeit.com</td>\n      <td>229-990-2162</td>\n      <td>0.0</td>\n      <td>NC169</td>\n      <td>UK</td>\n      <td>124-168-918</td>\n      <td>5148585346736100</td>\n      <td>American Express</td>\n      <td>10-24</td>\n      <td>6951</td>\n    </tr>\n    <tr>\n      <th>2</th>\n      <td>10003</td>\n      <td>Allen Schmidt</td>\n      <td>Abeto</td>\n      <td>PG</td>\n      <td>IT</td>\n      <td>6040</td>\n      <td>Allen.M.schmidt@spambob.com</td>\n      <td>288-202-8653</td>\n      <td>304.0</td>\n      <td>RP385</td>\n      <td>U.S.</td>\n      <td>346-450-984</td>\n      <td>3410798390214360</td>\n      <td>Master Card</td>\n      <td>10-24</td>\n      <td>6120</td>\n    </tr>\n    <tr>\n      <th>3</th>\n      <td>10004</td>\n      <td>Robert May</td>\n      <td>Houston</td>\n      <td>TX</td>\n      <td>US</td>\n      <td>79601</td>\n      <td>Robert.C.may@spambob.com</td>\n      <td>630-492-6535</td>\n      <td>304.0</td>\n      <td>SE337</td>\n      <td>U.S.</td>\n      <td>516-264-270</td>\n      <td>4861418531939110</td>\n      <td>VISA</td>\n      <td>10-24</td>\n      <td>1794</td>\n    </tr>\n    <tr>\n      <th>4</th>\n      <td>10005</td>\n      <td>Joe Cruz</td>\n      <td>Harrisonburg</td>\n      <td>VA</td>\n      <td>US</td>\n      <td>24210</td>\n      <td>Joe.D.cruz@spambob.com</td>\n      <td>448-788-1089</td>\n      <td>180.3</td>\n      <td>WE355</td>\n      <td>ES</td>\n      <td>766-887-613</td>\n      <td>4914921923672130</td>\n      <td>VISA</td>\n      <td>10-24</td>\n      <td>7596</td>\n    </tr>\n  </tbody>\n</table>\n</div>",
                        "text/plain": "   CUST_ID        CUSTNAME            CITY STATE COUNTRY_CODE POSTAL_CODE  \\\n0    10001  Michael Golden  Abbadia Alpina    TO           IT       10060   \n1    10002   Renee Mullins        Columbus    OH           US       45101   \n2    10003   Allen Schmidt           Abeto    PG           IT        6040   \n3    10004      Robert May         Houston    TX           US       79601   \n4    10005        Joe Cruz    Harrisonburg    VA           US       24210   \n\n                  EMAIL_ADDRESS  PHONE_NUMBER  YTD_SALES SALESREP_ID  \\\n0  Michael.E.golden@spambob.com  724-454-8453       90.3       SE133   \n1    Rene.K.mullins@dodgeit.com  229-990-2162        0.0       NC169   \n2   Allen.M.schmidt@spambob.com  288-202-8653      304.0       RP385   \n3      Robert.C.may@spambob.com  630-492-6535      304.0       SE337   \n4        Joe.D.cruz@spambob.com  448-788-1089      180.3       WE355   \n\n  NATIONALITY  NATIONAL_ID  CREDITCARD_NUMBER   CREDITCARD_TYPE  \\\n0          IT  152-374-114   5668369040063070  American Express   \n1          UK  124-168-918   5148585346736100  American Express   \n2        U.S.  346-450-984   3410798390214360       Master Card   \n3        U.S.  516-264-270   4861418531939110              VISA   \n4          ES  766-887-613   4914921923672130              VISA   \n\n  CREDITCARD_EXP  CREDITCARD_CVV  \n0          10-24            4950  \n1          10-24            6951  \n2          10-24            6120  \n3          10-24            1794  \n4          10-24            7596  "
                    },
                    "execution_count": 1,
                    "metadata": {},
                    "output_type": "execute_result"
                }
            ],
            "source": "# The code was removed by Watson Studio for sharing."
        },
        {
            "cell_type": "code",
            "execution_count": null,
            "metadata": {},
            "outputs": [],
            "source": ""
        }
    ],
    "metadata": {
        "kernelspec": {
            "display_name": "Python 3.10",
            "language": "python",
            "name": "python3"
        },
        "language_info": {
            "codemirror_mode": {
                "name": "ipython",
                "version": 3
            },
            "file_extension": ".py",
            "mimetype": "text/x-python",
            "name": "python",
            "nbconvert_exporter": "python",
            "pygments_lexer": "ipython3",
            "version": "3.10.9"
        }
    },
    "nbformat": 4,
    "nbformat_minor": 1
}